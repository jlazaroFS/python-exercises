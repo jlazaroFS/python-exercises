{
 "cells": [
  {
   "cell_type": "markdown",
   "metadata": {},
   "source": [
    "# Statistics"
   ]
  },
  {
   "cell_type": "code",
   "execution_count": 7,
   "metadata": {},
   "outputs": [],
   "source": [
    "import pandas as pd\n",
    "games_df = pd.read_csv(\"games.csv\")\n",
    "rounds_df = pd.read_csv(\"rounds_in_games.csv\")"
   ]
  },
  {
   "cell_type": "markdown",
   "metadata": {},
   "source": [
    "## Words"
   ]
  },
  {
   "cell_type": "markdown",
   "metadata": {},
   "source": [
    "\n",
    "Distribution of words by number of letters."
   ]
  },
  {
   "cell_type": "code",
   "execution_count": 8,
   "metadata": {},
   "outputs": [
    {
     "name": "stdout",
     "output_type": "stream",
     "text": [
      "   word_length  count\n",
      "0            5      2\n",
      "1            6      2\n",
      "2            7      1\n",
      "3            9      4\n"
     ]
    }
   ],
   "source": [
    "words_df = pd.DataFrame(rounds_df[\"word\"])\n",
    "words_df[\"word_length\"] = words_df[\"word\"].apply(len)\n",
    "word_length_distribution = (\n",
    "    words_df.groupby(\"word_length\").size().reset_index(name=\"count\")\n",
    ")\n",
    "print(word_length_distribution)"
   ]
  },
  {
   "cell_type": "markdown",
   "metadata": {},
   "source": [
    "## Rounds"
   ]
  },
  {
   "cell_type": "markdown",
   "metadata": {},
   "source": [
    "Number of distinct users who have played."
   ]
  },
  {
   "cell_type": "code",
   "execution_count": 9,
   "metadata": {},
   "outputs": [
    {
     "name": "stdout",
     "output_type": "stream",
     "text": [
      "2\n"
     ]
    }
   ],
   "source": [
    "distinct_usernames = games_df[\"username\"].unique()\n",
    "print(len(distinct_usernames))"
   ]
  },
  {
   "cell_type": "markdown",
   "metadata": {},
   "source": [
    "Top 5 players by rounds won per game."
   ]
  },
  {
   "cell_type": "code",
   "execution_count": 10,
   "metadata": {},
   "outputs": [
    {
     "name": "stdout",
     "output_type": "stream",
     "text": [
      "  username  victory\n",
      "0    luigi      2.0\n",
      "1      zen      1.0\n"
     ]
    }
   ],
   "source": [
    "rounds_won_per_game = (\n",
    "    rounds_df.groupby([\"game_id\", \"username\"]).agg({\"victory\": \"sum\"}).reset_index()\n",
    ")\n",
    "\n",
    "average_rounds_won = (\n",
    "    rounds_won_per_game.groupby(\"username\")[\"victory\"].mean().reset_index()\n",
    ")\n",
    "\n",
    "top_players = average_rounds_won.nlargest(5, \"victory\")\n",
    "\n",
    "print(top_players)"
   ]
  },
  {
   "cell_type": "markdown",
   "metadata": {},
   "source": [
    "## Game"
   ]
  },
  {
   "cell_type": "markdown",
   "metadata": {},
   "source": [
    "Top 5 players by final score."
   ]
  },
  {
   "cell_type": "code",
   "execution_count": 11,
   "metadata": {},
   "outputs": [
    {
     "name": "stdout",
     "output_type": "stream",
     "text": [
      "  username  final_score\n",
      "2    luigi            3\n",
      "0      zen            1\n",
      "1    luigi            1\n"
     ]
    }
   ],
   "source": [
    "top_players = games_df.sort_values(by=\"final_score\", ascending=False).head(5)[\n",
    "    [\"username\", \"final_score\"]\n",
    "]\n",
    "\n",
    "print(top_players)"
   ]
  },
  {
   "cell_type": "markdown",
   "metadata": {},
   "source": [
    "Top 5 users by mean score."
   ]
  },
  {
   "cell_type": "code",
   "execution_count": 12,
   "metadata": {},
   "outputs": [
    {
     "name": "stdout",
     "output_type": "stream",
     "text": [
      "  username  final_score\n",
      "0    luigi          2.0\n",
      "1      zen          1.0\n"
     ]
    }
   ],
   "source": [
    "average_score_per_user = (\n",
    "    games_df.groupby(\"username\")[\"final_score\"].mean().reset_index()\n",
    ")\n",
    "\n",
    "top_users = average_score_per_user.nlargest(5, \"final_score\")\n",
    "\n",
    "print(top_users)"
   ]
  },
  {
   "cell_type": "code",
   "execution_count": 20,
   "metadata": {},
   "outputs": [
    {
     "data": {
      "image/png": "[encoded data removed]",
      "text/plain": [
       "<Figure size 1000x600 with 1 Axes>"
      ]
     },
     "metadata": {},
     "output_type": "display_data"
    }
   ],
   "source": [
    "import matplotlib.pyplot as plt\n",
    "\n",
    "plt.figure(figsize=(10, 6))\n",
    "plt.hist(\n",
    "    games_df[\"final_score\"], bins=[0, 1, 2, 3, 4], color=\"skyblue\", edgecolor=\"black\"\n",
    ")\n",
    "\n",
    "plt.title(\"Games distribution by score\")\n",
    "plt.xlabel(\"Final score\")\n",
    "plt.ylabel(\"Number of games\")\n",
    "\n",
    "plt.xticks(range(4))\n",
    "\n",
    "plt.grid(True)\n",
    "plt.show()"
   ]
  }
 ],
 "metadata": {
  "kernelspec": {
   "display_name": ".venv",
   "language": "python",
   "name": "python3"
  },
  "language_info": {
   "codemirror_mode": {
    "name": "ipython",
    "version": 3
   },
   "file_extension": ".py",
   "mimetype": "text/x-python",
   "name": "python",
   "nbconvert_exporter": "python",
   "pygments_lexer": "ipython3",
   "version": "3.11.8"
  },
  "orig_nbformat": 4
 },
 "nbformat": 4,
 "nbformat_minor": 2
}
